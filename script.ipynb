{
 "cells": [
  {
   "cell_type": "code",
   "execution_count": 89,
   "metadata": {},
   "outputs": [],
   "source": [
    "import pandas as pd\n",
    "import os\n",
    "\n",
    "excel_file = \"C:/Users/faust/Documents/Scripts/Google_Forms_Script/data/Preguntas.xlsx\"\n",
    "path = os.path.abspath(excel_file)\n",
    "df = pd.read_excel(path)\n"
   ]
  },
  {
   "cell_type": "code",
   "execution_count": 90,
   "metadata": {},
   "outputs": [],
   "source": [
    "def get_correct_answers():\n",
    "    return df[\"Preguntas\"][df[\"Respuesta\"].notnull()].to_list()\n",
    "\n",
    "def get_questions_and_options():\n",
    "    data = df[\"Preguntas\"].to_list()\n",
    "    num_of_rows = df.shape[0]\n",
    "    questions_and_options = dict()\n",
    "    for i in range(0, num_of_rows, 5):\n",
    "        questions_and_options[data[i]] = [\n",
    "            data[i + 1], data[i + 2], data[i + 3], data[i + 4]\n",
    "        ]\n",
    "    return questions_and_options"
   ]
  },
  {
   "cell_type": "code",
   "execution_count": 91,
   "metadata": {},
   "outputs": [
    {
     "name": "stdout",
     "output_type": "stream",
     "text": [
      "{'formId': '1S5nfp8_LdGvTIej4ELs5jAaHv36X-gXSqBOu4Lfzppk', 'info': {'title': 'Guía de estudio para SAFe', 'documentTitle': 'Untitled form'}, 'settings': {'quizSettings': {'isQuiz': True}}, 'revisionId': '00000004', 'responderUri': 'https://docs.google.com/forms/d/e/1FAIpQLSevvYCXAtScsgQfMDTIzGPlojkCAgb-v4AQkIujp3wVMFHrng/viewform'}\n"
     ]
    }
   ],
   "source": [
    "from apiclient import discovery # API de cliente.\n",
    "from httplib2 import Http # Necesaria para realizar las consultas a la API de Google.\n",
    "from oauth2client.service_account import (\n",
    "    ServiceAccountCredentials\n",
    ") # Protocolo de seguridad.\n",
    "\n",
    "SCOPES = \"https://www.googleapis.com/auth/forms.body\"\n",
    "DISCOVERY_DOC = \"https://forms.googleapis.com/$discovery/rest?version=v1\"\n",
    "creds = ServiceAccountCredentials.from_json_keyfile_name(\n",
    "    'key/credentials.json',\n",
    "    SCOPES\n",
    ")\n",
    "http = creds.authorize(Http())\n",
    "\n",
    "form_service = discovery.build(\n",
    "    'forms',\n",
    "    'v1',\n",
    "    http=http,\n",
    "    discoveryServiceUrl=DISCOVERY_DOC,\n",
    "    static_discovery=False\n",
    ")\n",
    "\n",
    "NEW_FORM = {\n",
    "    \"info\": {\n",
    "        \"title\": \"Guía de estudio para SAFe\",\n",
    "    }\n",
    "}\n",
    "\n",
    "UPDATE = {\n",
    "    \"requests\": [\n",
    "        {\n",
    "            \"updateSettings\": {\n",
    "                \"settings\": {\"quizSettings\": {\"isQuiz\": True}},\n",
    "                \"updateMask\": \"quizSettings.isQuiz\",\n",
    "            }\n",
    "        }\n",
    "    ]\n",
    "}\n",
    "\n",
    "# Creates the initial form\n",
    "result = form_service.forms().create(body=NEW_FORM).execute()\n",
    "\n",
    "question_setting = (\n",
    "    form_service.forms()\n",
    "    .batchUpdate(formId=result[\"formId\"], body=UPDATE)\n",
    "    .execute()\n",
    ")\n",
    "\n",
    "# Prints the result to show the question has been added\n",
    "get_result = form_service.forms().get(formId=result[\"formId\"]).execute()\n",
    "print(get_result)\n"
   ]
  },
  {
   "cell_type": "code",
   "execution_count": 92,
   "metadata": {},
   "outputs": [],
   "source": [
    "def set_question(item, question):\n",
    "    item[\"requests\"][0][\"createItem\"][\"item\"][\"title\"] = question\n",
    "\n",
    "def set_correct_answer(item, answer):\n",
    "    item[\"requests\"][0][\"createItem\"][\"item\"][\"questionItem\"][\"question\"][\"grading\"][\"correctAnswers\"][\"answers\"][0][\"value\"] = answer\n",
    "\n",
    "def set_options_for_question(item, options):\n",
    "    list_of_options = []\n",
    "    for option in options:\n",
    "        list_of_options.append({'value': option})\n",
    "    item[\"requests\"][0][\"createItem\"][\"item\"][\"questionItem\"][\"question\"][\"choiceQuestion\"][\"options\"] = list_of_options"
   ]
  },
  {
   "cell_type": "code",
   "execution_count": 93,
   "metadata": {},
   "outputs": [],
   "source": [
    "answers = get_correct_answers()\n",
    "questions_and_options = get_questions_and_options()\n",
    "questions = list(questions_and_options.keys())\n",
    "options = list(questions_and_options.values())"
   ]
  },
  {
   "cell_type": "code",
   "execution_count": 94,
   "metadata": {},
   "outputs": [],
   "source": [
    "def create_question(item, question, opt, answer):\n",
    "    set_question(item, question)\n",
    "    set_options_for_question(item, opt)\n",
    "    set_correct_answer(item, answer)\n",
    "\n",
    "def create_questions(n, questions, opt, answers):\n",
    "    FORMAT_QUESTION = {\n",
    "        \"requests\": [\n",
    "            {\n",
    "                \"createItem\": {\n",
    "                    \"item\": {\n",
    "                        \"title\": (\n",
    "                            \"In what year did the United States land a mission on\"\n",
    "                            \" the moon?\"\n",
    "                        ),\n",
    "                        \"questionItem\": {\n",
    "                            \"question\": {\n",
    "                                \"required\": True,\n",
    "                                \"grading\": {\n",
    "                                    \"pointValue\": 1,\n",
    "                                    \"correctAnswers\": {\n",
    "                                        \"answers\": [\n",
    "                                            {\n",
    "                                                \"value\": \"1967\"\n",
    "                                            }\n",
    "                                        ]\n",
    "                                    }\n",
    "                                },\n",
    "                                \"choiceQuestion\": {\n",
    "                                    \"type\": \"RADIO\",\n",
    "                                    \"options\": [\n",
    "                                        {\"value\": \"1965\"},\n",
    "                                        {\"value\": \"1967\"},\n",
    "                                        {\"value\": \"1969\"},\n",
    "                                        {\"value\": \"1971\"},\n",
    "                                    ],\n",
    "                                    \"shuffle\": False,\n",
    "                                },\n",
    "                            }\n",
    "                        },\n",
    "                    },\n",
    "                    \"location\": {\"index\": 0},\n",
    "                }\n",
    "            }\n",
    "        ]\n",
    "    }\n",
    "    for i in range(n):\n",
    "        set_question(FORMAT_QUESTION, questions[i])\n",
    "        set_options_for_question(FORMAT_QUESTION, opt[i])\n",
    "        set_correct_answer(FORMAT_QUESTION, answers[i])\n",
    "        question_setting = (\n",
    "            form_service.forms()\n",
    "            .batchUpdate(formId=result[\"formId\"], body=FORMAT_QUESTION)\n",
    "            .execute()\n",
    "        )"
   ]
  },
  {
   "cell_type": "code",
   "execution_count": 95,
   "metadata": {},
   "outputs": [
    {
     "name": "stdout",
     "output_type": "stream",
     "text": [
      "{'formId': '1S5nfp8_LdGvTIej4ELs5jAaHv36X-gXSqBOu4Lfzppk', 'info': {'title': 'Guía de estudio para SAFe', 'documentTitle': 'Untitled form'}, 'settings': {'quizSettings': {'isQuiz': True}}, 'revisionId': '00000031', 'responderUri': 'https://docs.google.com/forms/d/e/1FAIpQLSevvYCXAtScsgQfMDTIzGPlojkCAgb-v4AQkIujp3wVMFHrng/viewform', 'items': [{'itemId': '6a3fa968', 'title': 'What is one anti-pattern of the Inspect and Adapt?', 'questionItem': {'question': {'questionId': '20fcc249', 'required': True, 'grading': {'pointValue': 1, 'correctAnswers': {'answers': [{'value': 'No actionable improvement Features are created'}]}}, 'choiceQuestion': {'type': 'RADIO', 'options': [{'value': 'Not enough team members attend the PI System demo'}, {'value': 'No actionable improvement Features are created'}, {'value': 'Too many ideas enter the problem-solving workshop'}, {'value': 'Only one problem is identified by each team in the retrospective'}]}}}}, {'itemId': '113578e7', 'title': 'What is one way uncommitted objectives help Agile Teams make a plan for the PI?', 'questionItem': {'question': {'questionId': '69d3a2bc', 'required': True, 'grading': {'pointValue': 1, 'correctAnswers': {'answers': [{'value': 'They maintain the predictability of achieving the objectives'}]}}, 'choiceQuestion': {'type': 'RADIO', 'options': [{'value': 'They create an opportunity for teams to take on harder work'}, {'value': 'They maintain the predictability of achieving the objectives'}, {'value': 'They ensure the team has additional development options'}, {'value': 'They generate additional ways to measure team progress'}]}}}}, {'itemId': '39a21bbd', 'title': 'Team A has decided to use the IP Iteration to continue the finalizing Feature delivery work they have been working on for the past two Iterations. What is one effect Team A might experience by continuing to stay heads-down rather than using the IP Iteration as intended?', 'questionItem': {'question': {'questionId': '225b18e9', 'required': True, 'grading': {'pointValue': 1, 'correctAnswers': {'answers': [{'value': 'Individual team members could lose an opportunity to refresh their motivation'}]}}, 'choiceQuestion': {'type': 'RADIO', 'options': [{'value': 'Individual team members could lose an opportunity to consider their team work more holistically'}, {'value': 'Individual team members could lose an opportunity to keep their technical skills current'}, {'value': 'Individual team members could lose an opportunity to refresh their motivation'}, {'value': 'Individual team members could lose an opportunity to learn from one another'}]}}}}, {'itemId': '6b093789', 'title': 'Who are important attendees to the PI System Demo?', 'questionItem': {'question': {'questionId': '66d32089', 'required': True, 'grading': {'pointValue': 1, 'correctAnswers': {'answers': [{'value': 'Business Owners'}]}}, 'choiceQuestion': {'type': 'RADIO', 'options': [{'value': 'Feature Owners'}, {'value': 'Portfolio Management'}, {'value': 'Business Owners'}, {'value': 'Board Members'}]}}}}, {'itemId': '0898b4cf', 'title': 'What is one benefit of holding regular system demos?', 'questionItem': {'question': {'questionId': '306f946a', 'required': True, 'grading': {'pointValue': 1, 'correctAnswers': {'answers': [{'value': 'Execution can be measured across the whole ART'}]}}, 'choiceQuestion': {'type': 'RADIO', 'options': [{'value': 'Problems can be escalated to ART leadership'}, {'value': 'Execution can be measured across the whole ART'}, {'value': 'Bottlenecks can be identified early by the teams'}, {'value': 'Deliverables are reviewed with stakeholders'}]}}}}, {'itemId': '2148116a', 'title': 'What can a Scrum Master/Team Coach recommend to a team that is showing signs of burnout, not addressing increasing technical debt, and acting out of urgency rather than considering innovation?', 'questionItem': {'question': {'questionId': '6cc2685e', 'required': True, 'grading': {'pointValue': 1, 'correctAnswers': {'answers': [{'value': 'A constructive IP Iteration at the end of each PI'}]}}, 'choiceQuestion': {'type': 'RADIO', 'options': [{'value': 'A constructive IP Iteration at the end of each PI'}, {'value': 'A communicative retrospective at the end of each Iteration'}, {'value': 'A careful plan at the beginning of each Iteration'}, {'value': 'A collective Iteration Review and demo each Iteration'}]}}}}, {'itemId': '458e47b0', 'title': 'During which of the following Agile Team events do team members estimate relative story sizes?', 'questionItem': {'question': {'questionId': '72e039ff', 'required': True, 'grading': {'pointValue': 1, 'correctAnswers': {'answers': [{'value': 'Iteration Planning'}]}}, 'choiceQuestion': {'type': 'RADIO', 'options': [{'value': 'Iteration Planning'}, {'value': 'Backlog Refinement'}, {'value': 'Iteration Review'}, {'value': 'Iteration Retrospective'}]}}}}, {'itemId': '0e58cf38', 'title': 'Team A works collaboratively on new functionality for a customer application. The acceptance criteria have each been minimally met. Team A decides to release the functionality with a method for collecting direct customer feedback. Which of the following high-performing team characteristics is Team A demonstrating?', 'questionItem': {'question': {'questionId': '388d34ae', 'required': True, 'grading': {'pointValue': 1, 'correctAnswers': {'answers': [{'value': 'Using regular feedback loops built into the learning cycle'}]}}, 'choiceQuestion': {'type': 'RADIO', 'options': [{'value': 'Focusing on success over trying to avoid failures'}, {'value': 'Taking appropriate risks without fear of failure'}, {'value': 'Using regular feedback loops built into the learning cycle'}, {'value': 'Balancing abilities on the team with the challenge of the work'}]}}}}, {'itemId': '6a6e012e', 'title': 'What is one purpose of Iteration Goals?', 'questionItem': {'question': {'questionId': '7d14bee8', 'required': True, 'grading': {'pointValue': 1, 'correctAnswers': {'answers': [{'value': 'To align team members to common objectives'}]}}, 'choiceQuestion': {'type': 'RADIO', 'options': [{'value': 'To identify what to present in System Demo'}, {'value': 'To align team members to common objectives'}, {'value': 'To get feedback from the organization'}, {'value': 'To communicate which Stories will be completed during the Iteration'}]}}}}, {'itemId': '461a22c6', 'title': 'What is one practice Scrum Masters/Team Coaches can use to facilitate conflict management?', 'questionItem': {'question': {'questionId': '14d43512', 'required': True, 'grading': {'pointValue': 1, 'correctAnswers': {'answers': [{'value': 'Enforce working agreements'}]}}, 'choiceQuestion': {'type': 'RADIO', 'options': [{'value': 'Implement a formal complaints system'}, {'value': 'Escalate conflicts to the Release Train Engineer'}, {'value': 'Enforce working agreements'}, {'value': 'Encourage team members to resolve conflicts on their own'}]}}}}, {'itemId': '0afb3154', 'title': 'What is one anti-pattern that emerges when teams do not spend enough time refining the backlog?', 'questionItem': {'question': {'questionId': '597096ac', 'required': True, 'grading': {'pointValue': 1, 'correctAnswers': {'answers': [{'value': 'Teams enter new Iterations without enough Stories prepared'}]}}, 'choiceQuestion': {'type': 'RADIO', 'options': [{'value': 'Teams arrive to Iteration Planning without specified goals'}, {'value': 'Teams enter retrospectives without improvement ideas'}, {'value': 'Teams arrive to Team Sync without progress to share'}, {'value': 'Teams enter new Iterations without enough Stories prepared'}]}}}}, {'itemId': '664b4679', 'title': 'During which of the following stages of team development do team members stop focusing on their own goals and begin focusing on developing better ways of working together?', 'questionItem': {'question': {'questionId': '08c887b6', 'required': True, 'grading': {'pointValue': 1, 'correctAnswers': {'answers': [{'value': 'Norming'}]}}, 'choiceQuestion': {'type': 'RADIO', 'options': [{'value': 'Norming'}, {'value': 'Forming'}, {'value': 'Storming'}, {'value': 'Transforming'}]}}}}, {'itemId': '5699a11a', 'title': 'What is one recommended practice for Scrum Masters/Team Coaches when facilitating Iteration Review?', 'questionItem': {'question': {'questionId': '38d8674a', 'required': True, 'grading': {'pointValue': 1, 'correctAnswers': {'answers': [{'value': 'Begin to consider how and what to demo in Iteration Planning'}]}}, 'choiceQuestion': {'type': 'RADIO', 'options': [{'value': 'Begin to consider how and what to demo in Iteration Planning'}, {'value': 'Encourage team members to spend 3+ hours preparing'}, {'value': 'Limit participants to just the team members'}, {'value': 'Encourage the team member with the best presentation skills to demo each Iteration'}]}}}}, {'itemId': '55283004', 'title': 'What is one element of the CALMR approach to DevOps?', 'questionItem': {'question': {'questionId': '2944844e', 'required': True, 'grading': {'pointValue': 1, 'correctAnswers': {'answers': [{'value': 'Lean flow accelerates delivery'}]}}, 'choiceQuestion': {'type': 'RADIO', 'options': [{'value': 'Maximize work in process'}, {'value': 'Relentlessly reduce risk'}, {'value': 'Lean flow accelerates delivery'}, {'value': 'Activate the knowledge worker'}]}}}}, {'itemId': '5e0b4601', 'title': 'What is one way a servant leader can support team members in decision-making?', 'questionItem': {'question': {'questionId': '7e26d507', 'required': True, 'grading': {'pointValue': 1, 'correctAnswers': {'answers': [{'value': 'Give each team member the opportunity to contribute'}]}}, 'choiceQuestion': {'type': 'RADIO', 'options': [{'value': 'Give each team member the opportunity to contribute'}, {'value': 'Identify solutions to problems the team surfaces'}, {'value': 'Perform regular retrospectives on behalf of the team'}, {'value': 'Support teams in affinity mapping their concerns'}]}}}}, {'itemId': '1ef23cb8', 'title': \"What is a team's primary goal in an Iteration?\", 'questionItem': {'question': {'questionId': '5349d88c', 'required': True, 'grading': {'pointValue': 1, 'correctAnswers': {'answers': [{'value': 'Delivering working functionality at the end of the Iteration'}]}}, 'choiceQuestion': {'type': 'RADIO', 'options': [{'value': 'Maintaining steady team syncs across the Iteration'}, {'value': 'Managing scope at the start of the Iteration'}, {'value': 'Delivering working functionality at the end of the Iteration'}, {'value': 'Sharing progress with the organization during the Iteration'}]}}}}, {'itemId': '57552288', 'title': 'How does the \"C\" in the CALMR approach to DevOps help teams manage tensions caused by differing needs?', 'questionItem': {'question': {'questionId': '57a8277d', 'required': True, 'grading': {'pointValue': 1, 'correctAnswers': {'answers': [{'value': 'By creating a culture of shared responsibility'}]}}, 'choiceQuestion': {'type': 'RADIO', 'options': [{'value': 'By committing to a balance of speed and quality'}, {'value': 'By identifying a collaborative approach to deployment'}, {'value': 'By establishing communication between different teams'}, {'value': 'By creating a culture of shared responsibility'}]}}}}, {'itemId': '738fa88a', 'title': 'What is one recommended practice for Scrum Masters/Team Coaches when coaching teams on presenting a draft plan at PI Planning?', 'questionItem': {'question': {'questionId': '4b3a05f0', 'required': True, 'grading': {'pointValue': 1, 'correctAnswers': {'answers': [{'value': 'Identify as many risks and dependencies as possible for the management review'}]}}, 'choiceQuestion': {'type': 'RADIO', 'options': [{'value': 'Ensure the team has Stories written for the first two Iterations of the increment'}, {'value': 'Secure support from other teams on how work will be shared and completed'}, {'value': 'Identify as many risks and dependencies as possible for the management review'}, {'value': 'Align on how the team will answer questions about their proposed objectives'}]}}}}, {'itemId': '10b15157', 'title': 'According to SAFe, what is one Iteration Retrospective anti-pattern?', 'questionItem': {'question': {'questionId': '57aeef11', 'required': True, 'grading': {'pointValue': 1, 'correctAnswers': {'answers': [{'value': 'The team only brings up issues that are outside of their control to address'}]}}, 'choiceQuestion': {'type': 'RADIO', 'options': [{'value': 'The team only shares issues that are too big to be solved'}, {'value': 'The team only brings up issues that are outside of their control to address'}, {'value': 'The team only shares issues that are too small to result in real improvement'}, {'value': 'The team only shares issues that cannot be measured'}]}}}}, {'itemId': '40cbd8ad', 'title': 'What is one example of Scrum Masters/Team Coaches helping without diminishing the commitment of others?', 'questionItem': {'question': {'questionId': '1c6119df', 'required': True, 'grading': {'pointValue': 1, 'correctAnswers': {'answers': [{'value': 'Facilitating necessary meetings for the team'}]}}, 'choiceQuestion': {'type': 'RADIO', 'options': [{'value': 'Coaching the team to refrain from relying on external resources'}, {'value': 'Encouraging handoffs so each team member contributes to the work'}, {'value': 'Facilitating necessary meetings for the team'}, {'value': \"Demoing the team's completed work\"}]}}}}, {'itemId': '6431a3ac', 'title': 'What is one potential root cause of Team Sync anti-patterns?', 'questionItem': {'question': {'questionId': '2170cb49', 'required': True, 'grading': {'pointValue': 1, 'correctAnswers': {'answers': [{'value': 'Lack of collective ownership'}]}}, 'choiceQuestion': {'type': 'RADIO', 'options': [{'value': 'Lack of collective ownership'}, {'value': 'Frequent verification and integration during the Iteration'}, {'value': 'Occasional conflict within the team'}, {'value': 'Overcommunication between team members'}]}}}}, {'itemId': '629ef73b', 'title': 'According to SAFe, what is one output of a successful Iteration Retrospective?', 'questionItem': {'question': {'questionId': '64daa4de', 'required': True, 'grading': {'pointValue': 1, 'correctAnswers': {'answers': [{'value': 'Improvement Stories'}]}}, 'choiceQuestion': {'type': 'RADIO', 'options': [{'value': 'Updated dependencies between Stories'}, {'value': 'Improvement Stories'}, {'value': 'Iteration Goals'}, {'value': 'Updated ART metrics'}]}}}}, {'itemId': '30acc706', 'title': 'What is one method a Scrum Master/Team Coach can use to help teams overcome a fear of conflict?', 'questionItem': {'question': {'questionId': '770ee341', 'required': True, 'grading': {'pointValue': 1, 'correctAnswers': {'answers': [{'value': 'Aligning to shared commitments'}]}}, 'choiceQuestion': {'type': 'RADIO', 'options': [{'value': 'Giving every team member the opportunity to contribute'}, {'value': 'Aligning to shared commitments'}, {'value': 'Scheduling regular Team Syncs'}, {'value': 'Enforcing work-in-process limits'}]}}}}, {'itemId': '18c86d5d', 'title': 'What is the first step of the problem-solving workshop?', 'questionItem': {'question': {'questionId': '0aaf30c2', 'required': True, 'grading': {'pointValue': 1, 'correctAnswers': {'answers': [{'value': 'Agree on the problem to solve'}]}}, 'choiceQuestion': {'type': 'RADIO', 'options': [{'value': 'Perform a root-cause analysis'}, {'value': 'Agree on the problem to solve'}, {'value': 'Identify the biggest root cause'}, {'value': 'Restate the new problem for the biggest root cause'}]}}}}, {'itemId': '1cbaff24', 'title': 'What is one benefit of having an IP Iteration every PI?', 'questionItem': {'question': {'questionId': '0557b1b4', 'required': True, 'grading': {'pointValue': 1, 'correctAnswers': {'answers': [{'value': 'It creates a timeboxed opportunity for team growth'}]}}, 'choiceQuestion': {'type': 'RADIO', 'options': [{'value': 'It creates a timeboxed opportunity for team growth'}, {'value': 'It creates a guardrail for teams working too hard'}, {'value': 'It creates a chance for teams to manage quality'}, {'value': 'It creates an estimating buffer for meeting PI objectives'}]}}}}, {'itemId': '6c72b091', 'title': 'What is one practice Scrum Masters/Team Coaches can use to run successful meetings?', 'questionItem': {'question': {'questionId': '4eb73bef', 'required': True, 'grading': {'pointValue': 1, 'correctAnswers': {'answers': [{'value': 'Leave meetings with clear action items'}]}}, 'choiceQuestion': {'type': 'RADIO', 'options': [{'value': 'Maintain vague agendas to allow for any urgent issues'}, {'value': 'Allow individuals to override timeboxes to ensure full discussions'}, {'value': 'Leave meetings with clear action items'}, {'value': 'Schedule meetings around the Product Owner to ensure they are able to make final decisions'}]}}}}, {'itemId': '0004daf1', 'title': 'According to SAFe, which of the following types of work should fit into one Iteration for one team?', 'questionItem': {'question': {'questionId': '18acdb83', 'required': True, 'grading': {'pointValue': 1, 'correctAnswers': {'answers': [{'value': 'Stories'}]}}, 'choiceQuestion': {'type': 'RADIO', 'options': [{'value': 'Stories'}, {'value': 'Features'}, {'value': 'Epics'}, {'value': 'Tasks'}]}}}}, {'itemId': '255e0194', 'title': 'What is one Agile practice teams can use to enhance their performance?', 'questionItem': {'question': {'questionId': '7f8d5824', 'required': True, 'grading': {'pointValue': 1, 'correctAnswers': {'answers': [{'value': 'Build in quality'}]}}, 'choiceQuestion': {'type': 'RADIO', 'options': [{'value': 'Visualize meeting times'}, {'value': 'Build in quality'}, {'value': 'Use planning cycles'}, {'value': 'Record innovations'}]}}}}, {'itemId': '2d4bab68', 'title': 'What is the intended value of the Backlog Refinement event?', 'questionItem': {'question': {'questionId': '32fc605d', 'required': True, 'grading': {'pointValue': 1, 'correctAnswers': {'answers': [{'value': 'The team is able to prepare requirements for Iteration Planning'}]}}, 'choiceQuestion': {'type': 'RADIO', 'options': [{'value': 'The team reviews and improves processes before the next Iteration'}, {'value': 'The team is able to prepare requirements for Iteration Planning'}, {'value': 'The team is able to commit to a set of goals to be delivered in the Iteration'}, {'value': 'The team aligns on the progress of Iteration Goals'}]}}}}, {'itemId': '54631d49', 'title': 'What is one example of an Agile Team development practice?', 'questionItem': {'question': {'questionId': '7d6d3982', 'required': True, 'grading': {'pointValue': 1, 'correctAnswers': {'answers': [{'value': 'Demoing frequently'}]}}, 'choiceQuestion': {'type': 'RADIO', 'options': [{'value': 'Tracking regulations'}, {'value': 'Demoing frequently'}, {'value': 'Writing requirements'}, {'value': 'Visualizing effort'}]}}}}, {'itemId': '08cea53f', 'title': 'What is one Scrum value that can help Agile Teams create transparency?', 'questionItem': {'question': {'questionId': '13bffb56', 'required': True, 'grading': {'pointValue': 1, 'correctAnswers': {'answers': [{'value': 'Respect'}]}}, 'choiceQuestion': {'type': 'RADIO', 'options': [{'value': 'Persistence'}, {'value': 'Communication'}, {'value': 'Respect'}, {'value': 'Empathy'}]}}}}, {'itemId': '7f003521', 'title': 'How can teams use Iteration planning to stay aligned on their work?', 'questionItem': {'question': {'questionId': '097738f8', 'required': True, 'grading': {'pointValue': 1, 'correctAnswers': {'answers': [{'value': 'By committing to a set of goals to be delivered'}]}}, 'choiceQuestion': {'type': 'RADIO', 'options': [{'value': 'By committing to a set of goals to be delivered'}, {'value': 'By sharing Stories that could be pairing opportunities'}, {'value': 'By reviewing its processes before the next iteration'}, {'value': 'By agreeing on a meeting timebox'}]}}}}, {'itemId': '2fcc18a1', 'title': 'What is one trait of a servant leader?', 'questionItem': {'question': {'questionId': '21bab368', 'required': True, 'grading': {'pointValue': 1, 'correctAnswers': {'answers': [{'value': 'Persuades rather than using authority'}]}}, 'choiceQuestion': {'type': 'RADIO', 'options': [{'value': \"Deflects information that could change the team's work\"}, {'value': 'Persuades rather than using authority'}, {'value': 'Determines the day-to-day activities for the team'}, {'value': 'Solves problems on behalf of the team'}]}}}}, {'itemId': '3ab67ca1', 'title': 'Which of the following events aligns teams on a train?', 'questionItem': {'question': {'questionId': '2780793d', 'required': True, 'grading': {'pointValue': 1, 'correctAnswers': {'answers': [{'value': 'PI Planning'}]}}, 'choiceQuestion': {'type': 'RADIO', 'options': [{'value': 'Coach Sync'}, {'value': 'Iteration Planning'}, {'value': 'Architect Sync'}, {'value': 'PI Planning'}]}}}}, {'itemId': '60317dfa', 'title': 'What is one responsibility of a Scrum Master/Team Coach?', 'questionItem': {'question': {'questionId': '17744d2f', 'required': True, 'grading': {'pointValue': 1, 'correctAnswers': {'answers': [{'value': 'Improving flow'}]}}, 'choiceQuestion': {'type': 'RADIO', 'options': [{'value': 'Demoing the system'}, {'value': 'Improving flow'}, {'value': 'Testing the system'}, {'value': 'Prioritizing the backlog'}]}}}}, {'itemId': '07f8f4e9', 'title': 'What is one way a Scrum Master/Team Coach can support Iteration Execution?', 'questionItem': {'question': {'questionId': '39d43ef7', 'required': True, 'grading': {'pointValue': 1, 'correctAnswers': {'answers': [{'value': 'Facilitate team events'}]}}, 'choiceQuestion': {'type': 'RADIO', 'options': [{'value': 'Facilitate team events'}, {'value': 'Assign story points for each User Story'}, {'value': 'Build value stream maps'}, {'value': 'Prioritize the team backlog'}]}}}}, {'itemId': '261565ca', 'title': 'What is one Agile development value?', 'questionItem': {'question': {'questionId': '3f4f28c2', 'required': True, 'grading': {'pointValue': 1, 'correctAnswers': {'answers': [{'value': 'Customer collaboration over contract negotiation'}]}}, 'choiceQuestion': {'type': 'RADIO', 'options': [{'value': 'Healthy interactions over detailed plans'}, {'value': 'Risk-taking over process development'}, {'value': 'Customer collaboration over contract negotiation'}, {'value': 'Working teams over busy individuals'}]}}}}, {'itemId': '0905a5ed', 'title': 'What is one way a Scrum Master/Team Coach can help improve ART performance?', 'questionItem': {'question': {'questionId': '6a38b30a', 'required': True, 'grading': {'pointValue': 1, 'correctAnswers': {'answers': [{'value': 'Facilitate cross-team collaboration'}]}}, 'choiceQuestion': {'type': 'RADIO', 'options': [{'value': 'Facilitate cross-team collaboration'}, {'value': 'Communicate the PI Planning agenda'}, {'value': 'Prioritize the ART backlog for PI Planning'}, {'value': 'Run an Agile Team charter workshop'}]}}}}, {'itemId': '43ecdf2e', 'title': 'Team A wants to use the IP Iteration to continue their \"usual work.\" What is one benefit the Scrum Master/Team Coach could share with the team about using the IP Iteration as intended?', 'questionItem': {'question': {'questionId': '6f2f7f5b', 'required': True, 'grading': {'pointValue': 1, 'correctAnswers': {'answers': [{'value': 'The team can participate in hackathons'}]}}, 'choiceQuestion': {'type': 'RADIO', 'options': [{'value': 'The team can consider additional retrospective action items'}, {'value': 'The team can find time to participate in ad hoc groups'}, {'value': 'The team can participate in hackathons'}, {'value': 'The team can perform needed system maintenance'}]}}}}, {'itemId': '3b726ae8', 'title': 'Three members of Team C created a new workflow to speed up the testing process. They spent an entire Iteration designing the process but discovered, just before implementation, that the system could not support the workflow. The rest of the team was excited to hear what was learned from the failed experiment. Which of the following characteristics of a high-performing Agile Team is Team C demonstrating?', 'questionItem': {'question': {'questionId': '76beb4af', 'required': True, 'grading': {'pointValue': 1, 'correctAnswers': {'answers': [{'value': 'A safe environment for taking risks without fear of embarrassment or criticism'}]}}, 'choiceQuestion': {'type': 'RADIO', 'options': [{'value': 'A safe environment for taking risks without fear of embarrassment or criticism'}, {'value': 'Enjoying the work and working together'}, {'value': 'Accountability to each other and the organization for reliably completing quality work'}, {'value': 'Mutual trust that allows for both healthy conflict and reliance on others'}]}}}}, {'itemId': '6c343ed9', 'title': 'What is one way to ensure a team is holding successful Iteration Reviews and demos?', 'questionItem': {'question': {'questionId': '20640573', 'required': True, 'grading': {'pointValue': 1, 'correctAnswers': {'answers': [{'value': 'The team demos working functionality'}]}}, 'choiceQuestion': {'type': 'RADIO', 'options': [{'value': 'The team ensures they complete every Story'}, {'value': 'The team swarms to prepare for demos'}, {'value': 'The team demos working functionality'}, {'value': 'The team shares improving metrics'}]}}}}, {'itemId': '79611454', 'title': 'According to SAFe, which of the following key traits of effective Scrum Masters/Team Coaches is crucial for team members to accept coaching?', 'questionItem': {'question': {'questionId': '2d674fe7', 'required': True, 'grading': {'pointValue': 1, 'correctAnswers': {'answers': [{'value': 'Empathy'}]}}, 'choiceQuestion': {'type': 'RADIO', 'options': [{'value': 'Empathy'}, {'value': 'Optimism'}, {'value': 'Agreeableness'}, {'value': 'Fairness'}]}}}}, {'itemId': '0de1cdc8', 'title': 'What is one element on the Scrum Master/Team Coach responsibility wheel?', 'questionItem': {'question': {'questionId': '42c3fb0a', 'required': True, 'grading': {'pointValue': 1, 'correctAnswers': {'answers': [{'value': 'Facilitate PI Planning'}]}}, 'choiceQuestion': {'type': 'RADIO', 'options': [{'value': 'Facilitate an Agile Team charter workshop'}, {'value': 'Facilitate Coach Sync'}, {'value': 'Facilitate PI Planning'}, {'value': 'Facilitate a Community of Practice'}]}}}}, {'itemId': '2966a343', 'title': 'What is one benefit of PI Planning?', 'questionItem': {'question': {'questionId': '2ac31b2f', 'required': True, 'grading': {'pointValue': 1, 'correctAnswers': {'answers': [{'value': 'Allows for faster decision-making'}]}}, 'choiceQuestion': {'type': 'RADIO', 'options': [{'value': 'Allows for faster decision-making'}, {'value': 'It aligns the ART to established DevOps practices'}, {'value': 'It maximizes team capacity'}, {'value': 'It fosters cross-team dependencies'}]}}}}, {'itemId': '7b6401df', 'title': 'According to SAFe, which of the following metrics are reported at the Inspect and Adapt event?', 'questionItem': {'question': {'questionId': '525d13f2', 'required': True, 'grading': {'pointValue': 1, 'correctAnswers': {'answers': [{'value': 'ART predictability measure'}]}}, 'choiceQuestion': {'type': 'RADIO', 'options': [{'value': 'Cumulative value measure'}, {'value': 'ART cycle velocity'}, {'value': 'Cumulative value rate'}, {'value': 'ART predictability measure'}]}}}}]}\n"
     ]
    }
   ],
   "source": [
    "# Create forms\n",
    "n = len(questions)\n",
    "create_questions(n, questions, options, answers)\n",
    "get_result = form_service.forms().get(formId=result[\"formId\"]).execute()\n",
    "print(get_result)"
   ]
  }
 ],
 "metadata": {
  "kernelspec": {
   "display_name": "Python 3",
   "language": "python",
   "name": "python3"
  },
  "language_info": {
   "codemirror_mode": {
    "name": "ipython",
    "version": 3
   },
   "file_extension": ".py",
   "mimetype": "text/x-python",
   "name": "python",
   "nbconvert_exporter": "python",
   "pygments_lexer": "ipython3",
   "version": "3.11.4"
  }
 },
 "nbformat": 4,
 "nbformat_minor": 2
}
